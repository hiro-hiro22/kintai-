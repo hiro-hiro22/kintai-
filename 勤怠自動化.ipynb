{
 "cells": [
  {
   "cell_type": "code",
   "execution_count": 29,
   "metadata": {},
   "outputs": [
    {
     "name": "stdout",
     "output_type": "stream",
     "text": [
      "Requirement already satisfied: gspread in c:\\users\\hiro\\appdata\\roaming\\python\\python38\\site-packages (3.7.0)\n",
      "Requirement already satisfied: google-auth-oauthlib>=0.4.1 in c:\\users\\hiro\\appdata\\roaming\\python\\python38\\site-packages (from gspread) (0.4.4)\n",
      "Requirement already satisfied: google-auth>=1.12.0 in c:\\users\\hiro\\appdata\\roaming\\python\\python38\\site-packages (from gspread) (1.28.1)\n",
      "Requirement already satisfied: requests-oauthlib>=0.7.0 in c:\\users\\hiro\\appdata\\roaming\\python\\python38\\site-packages (from google-auth-oauthlib>=0.4.1->gspread) (1.3.0)\n",
      "Requirement already satisfied: cachetools<5.0,>=2.0.0 in c:\\users\\hiro\\appdata\\roaming\\python\\python38\\site-packages (from google-auth>=1.12.0->gspread) (4.2.1)\n",
      "Requirement already satisfied: setuptools>=40.3.0 in c:\\users\\hiro\\appdata\\roaming\\python\\python38\\site-packages (from google-auth>=1.12.0->gspread) (50.3.2)\n",
      "Requirement already satisfied: six>=1.9.0 in c:\\users\\hiro\\appdata\\roaming\\python\\python38\\site-packages (from google-auth>=1.12.0->gspread) (1.15.0)\n",
      "Requirement already satisfied: pyasn1-modules>=0.2.1 in c:\\users\\hiro\\appdata\\roaming\\python\\python38\\site-packages (from google-auth>=1.12.0->gspread) (0.2.8)\n",
      "Requirement already satisfied: rsa<5,>=3.1.4; python_version >= \"3.6\" in c:\\users\\hiro\\appdata\\roaming\\python\\python38\\site-packages (from google-auth>=1.12.0->gspread) (4.7.2)\n",
      "Requirement already satisfied: requests>=2.0.0 in c:\\users\\hiro\\appdata\\roaming\\python\\python38\\site-packages (from requests-oauthlib>=0.7.0->google-auth-oauthlib>=0.4.1->gspread) (2.25.1)\n",
      "Requirement already satisfied: oauthlib>=3.0.0 in c:\\users\\hiro\\appdata\\roaming\\python\\python38\\site-packages (from requests-oauthlib>=0.7.0->google-auth-oauthlib>=0.4.1->gspread) (3.1.0)\n",
      "Requirement already satisfied: pyasn1<0.5.0,>=0.4.6 in c:\\users\\hiro\\appdata\\roaming\\python\\python38\\site-packages (from pyasn1-modules>=0.2.1->google-auth>=1.12.0->gspread) (0.4.8)\n",
      "Requirement already satisfied: urllib3<1.27,>=1.21.1 in c:\\users\\hiro\\appdata\\roaming\\python\\python38\\site-packages (from requests>=2.0.0->requests-oauthlib>=0.7.0->google-auth-oauthlib>=0.4.1->gspread) (1.26.4)\n",
      "Requirement already satisfied: certifi>=2017.4.17 in c:\\users\\hiro\\appdata\\roaming\\python\\python38\\site-packages (from requests>=2.0.0->requests-oauthlib>=0.7.0->google-auth-oauthlib>=0.4.1->gspread) (2020.12.5)\n",
      "Requirement already satisfied: idna<3,>=2.5 in c:\\users\\hiro\\appdata\\roaming\\python\\python38\\site-packages (from requests>=2.0.0->requests-oauthlib>=0.7.0->google-auth-oauthlib>=0.4.1->gspread) (2.10)\n",
      "Requirement already satisfied: chardet<5,>=3.0.2 in c:\\users\\hiro\\appdata\\roaming\\python\\python38\\site-packages (from requests>=2.0.0->requests-oauthlib>=0.7.0->google-auth-oauthlib>=0.4.1->gspread) (4.0.0)\n",
      "Requirement already satisfied: oauth2client in c:\\users\\hiro\\appdata\\roaming\\python\\python38\\site-packages (4.1.3)\n",
      "Requirement already satisfied: httplib2>=0.9.1 in c:\\users\\hiro\\appdata\\roaming\\python\\python38\\site-packages (from oauth2client) (0.19.1)\n",
      "Requirement already satisfied: rsa>=3.1.4 in c:\\users\\hiro\\appdata\\roaming\\python\\python38\\site-packages (from oauth2client) (4.7.2)\n",
      "Requirement already satisfied: pyasn1-modules>=0.0.5 in c:\\users\\hiro\\appdata\\roaming\\python\\python38\\site-packages (from oauth2client) (0.2.8)\n",
      "Requirement already satisfied: six>=1.6.1 in c:\\users\\hiro\\appdata\\roaming\\python\\python38\\site-packages (from oauth2client) (1.15.0)\n",
      "Requirement already satisfied: pyasn1>=0.1.7 in c:\\users\\hiro\\appdata\\roaming\\python\\python38\\site-packages (from oauth2client) (0.4.8)\n",
      "Requirement already satisfied: pyparsing<3,>=2.4.2 in c:\\users\\hiro\\appdata\\roaming\\python\\python38\\site-packages (from httplib2>=0.9.1->oauth2client) (2.4.7)\n"
     ]
    }
   ],
   "source": [
    "!pip install gspread\n",
    "!pip install oauth2client"
   ]
  },
  {
   "cell_type": "code",
   "execution_count": 30,
   "metadata": {},
   "outputs": [],
   "source": [
    "import pandas as pd\n",
    "from datetime import datetime\n",
    "import gspread\n",
    "from oauth2client.service_account import ServiceAccountCredentials"
   ]
  },
  {
   "cell_type": "code",
   "execution_count": 31,
   "metadata": {},
   "outputs": [],
   "source": [
    "def auth():\n",
    "    SP_CREDENTIAL_FILE='linebot.json'\n",
    "    SP_SCOPE={\n",
    "    'https://spreadsheets.google.com/feeds',\n",
    "    'https://www.googleapis.com/auth/drive'\n",
    "    }\n",
    "\n",
    "    SP_SHEET_KEY='************'\n",
    "    SP_SHEET='timeseet'\n",
    "\n",
    "    credentials= ServiceAccountCredentials.from_json_keyfile_name(SP_CREDENTIAL_FILE,SP_SCOPE)\n",
    "    gc=gspread.authorize(credentials)\n",
    "\n",
    "    worksheet=gc.open_by_key(SP_SHEET_KEY).worksheet(SP_SHEET)\n",
    "    return worksheet"
   ]
  },
  {
   "cell_type": "code",
   "execution_count": 32,
   "metadata": {},
   "outputs": [],
   "source": [
    "worksheet=auth()"
   ]
  },
  {
   "cell_type": "code",
   "execution_count": 33,
   "metadata": {},
   "outputs": [
    {
     "data": {
      "text/plain": [
       "<Worksheet 'timeseet' id:0>"
      ]
     },
     "execution_count": 33,
     "metadata": {},
     "output_type": "execute_result"
    }
   ],
   "source": [
    "worksheet"
   ]
  },
  {
   "cell_type": "code",
   "execution_count": 34,
   "metadata": {},
   "outputs": [],
   "source": [
    "df=pd.DataFrame(worksheet.get_all_records())"
   ]
  },
  {
   "cell_type": "code",
   "execution_count": 35,
   "metadata": {},
   "outputs": [],
   "source": [
    "timestamp=datetime.now()"
   ]
  },
  {
   "cell_type": "code",
   "execution_count": 36,
   "metadata": {},
   "outputs": [],
   "source": [
    "date=timestamp.strftime('%Y/%m/%d')"
   ]
  },
  {
   "cell_type": "code",
   "execution_count": 37,
   "metadata": {},
   "outputs": [],
   "source": [
    "punch_in=timestamp.strftime('%H:%M')"
   ]
  },
  {
   "cell_type": "code",
   "execution_count": 38,
   "metadata": {},
   "outputs": [],
   "source": [
    "df=df.append({'日付':date,'出勤時間':punch_in,'退勤時間':'00:00'},ignore_index=True)"
   ]
  },
  {
   "cell_type": "code",
   "execution_count": 39,
   "metadata": {},
   "outputs": [
    {
     "data": {
      "text/plain": [
       "{'spreadsheetId': '*******************',\n",
       " 'updatedRange': 'timeseet!A1:C12',\n",
       " 'updatedRows': 12,\n",
       " 'updatedColumns': 3,\n",
       " 'updatedCells': 36}"
      ]
     },
     "execution_count": 39,
     "metadata": {},
     "output_type": "execute_result"
    }
   ],
   "source": [
    "worksheet.update([df.columns.values.tolist()]+df.values.tolist())"
   ]
  },
  {
   "cell_type": "code",
   "execution_count": 40,
   "metadata": {},
   "outputs": [
    {
     "data": {
      "text/plain": [
       "[['日付', '出勤時間', '退勤時間'],\n",
       " ['2021/04/17', '10:00', '18:00'],\n",
       " ['2021/04/19', '22:10', '22:17'],\n",
       " ['2021/04/19', '22:42', '22:43'],\n",
       " ['2021/04/26', '21:21', '21:21'],\n",
       " ['2021/04/26', '21:21', '21:21'],\n",
       " ['2021/04/27', '20:31', '20:31'],\n",
       " ['2021/04/27', '20:31', '20:31'],\n",
       " ['2021/04/28', '21:47', '21:47'],\n",
       " ['2021/04/28', '21:47', '21:47'],\n",
       " ['2021/05/01', '23:08', '23:08'],\n",
       " ['2021/05/02', '18:09', '00:00']]"
      ]
     },
     "execution_count": 40,
     "metadata": {},
     "output_type": "execute_result"
    }
   ],
   "source": [
    "[df.columns.values.tolist()]+df.values.tolist()"
   ]
  },
  {
   "cell_type": "code",
   "execution_count": 41,
   "metadata": {},
   "outputs": [
    {
     "data": {
      "text/plain": [
       "[['2021/04/17', '10:00', '18:00'],\n",
       " ['2021/04/19', '22:10', '22:17'],\n",
       " ['2021/04/19', '22:42', '22:43'],\n",
       " ['2021/04/26', '21:21', '21:21'],\n",
       " ['2021/04/26', '21:21', '21:21'],\n",
       " ['2021/04/27', '20:31', '20:31'],\n",
       " ['2021/04/27', '20:31', '20:31'],\n",
       " ['2021/04/28', '21:47', '21:47'],\n",
       " ['2021/04/28', '21:47', '21:47'],\n",
       " ['2021/05/01', '23:08', '23:08'],\n",
       " ['2021/05/02', '18:09', '00:00']]"
      ]
     },
     "execution_count": 41,
     "metadata": {},
     "output_type": "execute_result"
    }
   ],
   "source": [
    "df.values.tolist()"
   ]
  },
  {
   "cell_type": "code",
   "execution_count": 42,
   "metadata": {},
   "outputs": [],
   "source": [
    "timestamp=datetime.now()"
   ]
  },
  {
   "cell_type": "code",
   "execution_count": 43,
   "metadata": {},
   "outputs": [
    {
     "data": {
      "text/plain": [
       "'18:09'"
      ]
     },
     "execution_count": 43,
     "metadata": {},
     "output_type": "execute_result"
    }
   ],
   "source": [
    "punch_out=timestamp.strftime('%H:%M')\n",
    "punch_out"
   ]
  },
  {
   "cell_type": "code",
   "execution_count": 44,
   "metadata": {},
   "outputs": [],
   "source": [
    "df.iloc[-1,2]=punch_out"
   ]
  },
  {
   "cell_type": "code",
   "execution_count": 45,
   "metadata": {},
   "outputs": [
    {
     "data": {
      "text/plain": [
       "{'spreadsheetId': '*******************',\n",
       " 'updatedRange': 'timeseet!A1:C12',\n",
       " 'updatedRows': 12,\n",
       " 'updatedColumns': 3,\n",
       " 'updatedCells': 36}"
      ]
     },
     "execution_count": 45,
     "metadata": {},
     "output_type": "execute_result"
    }
   ],
   "source": [
    "worksheet.update([df.columns.values.tolist()]+df.values.tolist())"
   ]
  },
  {
   "cell_type": "code",
   "execution_count": null,
   "metadata": {},
   "outputs": [],
   "source": []
  },
  {
   "cell_type": "code",
   "execution_count": null,
   "metadata": {},
   "outputs": [],
   "source": []
  },
  {
   "cell_type": "code",
   "execution_count": null,
   "metadata": {},
   "outputs": [],
   "source": []
  },
  {
   "cell_type": "code",
   "execution_count": 46,
   "metadata": {},
   "outputs": [],
   "source": [
    "import pandas as pd\n",
    "from datetime import datetime\n",
    "import gspread\n",
    "from oauth2client.service_account import ServiceAccountCredentials\n",
    "\n",
    "def auth():\n",
    "    SP_CREDENTIAL_FILE='linebot.json'\n",
    "    SP_SCOPE={\n",
    "    'https://spreadsheets.google.com/feeds',\n",
    "    'https://www.googleapis.com/auth/drive'\n",
    "    }\n",
    "\n",
    "    SP_SHEET_KEY='***********************'\n",
    "    SP_SHEET='timeseet'\n",
    "\n",
    "    credentials= ServiceAccountCredentials.from_json_keyfile_name(SP_CREDENTIAL_FILE,SP_SCOPE)\n",
    "    gc=gspread.authorize(credentials)\n",
    "\n",
    "    worksheet=gc.open_by_key(SP_SHEET_KEY).worksheet(SP_SHEET)\n",
    "    return worksheet\n",
    "\n",
    "#出勤時間\n",
    "def punch_in():\n",
    "    worksheet=auth()\n",
    "    df=pd.DataFrame(worksheet.get_all_records())\n",
    "\n",
    "    timestamp=datetime.now()\n",
    "    date=timestamp.strftime('%Y/%m/%d')\n",
    "    punch_in=timestamp.strftime('%H:%M')\n",
    "\n",
    "    df=df.append({'日付':date,'出勤時間':punch_in,'退勤時間':'00:00'},ignore_index=True)\n",
    "    worksheet.update([df.columns.values.tolist()]+df.values.tolist())\n",
    "    print('勤怠(出勤)登録完了しました')\n",
    "#退勤時間\n",
    "def punch_out():\n",
    "    worksheet=auth()\n",
    "    df=pd.DataFrame(worksheet.get_all_records())\n",
    "\n",
    "    timestamp=datetime.now()\n",
    "    punch_out=timestamp.strftime('%H:%M')\n",
    "\n",
    "    df.iloc[-1,2]=punch_out\n",
    "    worksheet.update([df.columns.values.tolist()]+df.values.tolist())\n",
    "    print('勤怠(退勤)登録完了しました')"
   ]
  },
  {
   "cell_type": "code",
   "execution_count": 47,
   "metadata": {},
   "outputs": [
    {
     "name": "stdout",
     "output_type": "stream",
     "text": [
      "勤怠(出勤)登録完了しました\n"
     ]
    }
   ],
   "source": [
    "punch_in()"
   ]
  },
  {
   "cell_type": "code",
   "execution_count": 48,
   "metadata": {},
   "outputs": [
    {
     "name": "stdout",
     "output_type": "stream",
     "text": [
      "勤怠(退勤)登録完了しました\n"
     ]
    }
   ],
   "source": [
    "punch_out()"
   ]
  },
  {
   "cell_type": "code",
   "execution_count": 49,
   "metadata": {},
   "outputs": [
    {
     "name": "stdout",
     "output_type": "stream",
     "text": [
      "Requirement already satisfied: flask in c:\\users\\hiro\\anaconda3\\lib\\site-packages (1.1.2)\n",
      "Requirement already satisfied: Werkzeug>=0.15 in c:\\users\\hiro\\anaconda3\\lib\\site-packages (from flask) (1.0.1)\n",
      "Requirement already satisfied: itsdangerous>=0.24 in c:\\users\\hiro\\anaconda3\\lib\\site-packages (from flask) (1.1.0)\n",
      "Requirement already satisfied: click>=5.1 in c:\\users\\hiro\\anaconda3\\lib\\site-packages (from flask) (7.1.2)\n",
      "Requirement already satisfied: Jinja2>=2.10.1 in c:\\users\\hiro\\anaconda3\\lib\\site-packages (from flask) (2.11.2)\n",
      "Requirement already satisfied: MarkupSafe>=0.23 in c:\\users\\hiro\\anaconda3\\lib\\site-packages (from Jinja2>=2.10.1->flask) (1.1.1)\n",
      "Requirement already satisfied: line-bot-sdk in c:\\users\\hiro\\anaconda3\\lib\\site-packages (1.19.0)\n",
      "Requirement already satisfied: requests>=2.0 in c:\\users\\hiro\\appdata\\roaming\\python\\python38\\site-packages (from line-bot-sdk) (2.25.1)\n",
      "Requirement already satisfied: future in c:\\users\\hiro\\anaconda3\\lib\\site-packages (from line-bot-sdk) (0.18.2)\n",
      "Requirement already satisfied: urllib3<1.27,>=1.21.1 in c:\\users\\hiro\\appdata\\roaming\\python\\python38\\site-packages (from requests>=2.0->line-bot-sdk) (1.26.4)\n",
      "Requirement already satisfied: idna<3,>=2.5 in c:\\users\\hiro\\appdata\\roaming\\python\\python38\\site-packages (from requests>=2.0->line-bot-sdk) (2.10)\n",
      "Requirement already satisfied: certifi>=2017.4.17 in c:\\users\\hiro\\appdata\\roaming\\python\\python38\\site-packages (from requests>=2.0->line-bot-sdk) (2020.12.5)\n",
      "Requirement already satisfied: chardet<5,>=3.0.2 in c:\\users\\hiro\\appdata\\roaming\\python\\python38\\site-packages (from requests>=2.0->line-bot-sdk) (4.0.0)\n"
     ]
    }
   ],
   "source": [
    "!pip3 install flask\n",
    "!pip3 install line-bot-sdk"
   ]
  },
  {
   "cell_type": "code",
   "execution_count": 50,
   "metadata": {},
   "outputs": [],
   "source": [
    "from flask import Flask, request, abort\n",
    "\n",
    "from linebot import (\n",
    "    LineBotApi, WebhookHandler\n",
    ")\n",
    "from linebot.exceptions import (\n",
    "    InvalidSignatureError\n",
    ")\n",
    "from linebot.models import (\n",
    "    MessageEvent, TextMessage, TextSendMessage,\n",
    ")"
   ]
  },
  {
   "cell_type": "code",
   "execution_count": 51,
   "metadata": {},
   "outputs": [],
   "source": [
    "app = Flask(__name__)\n",
    "\n",
    "YOUR_CHANNEL_ACCESS_TOKEN='**********************='\n",
    "YOUR_CHANNEL_SECRET='******************'\n",
    "\n",
    "line_bot_api = LineBotApi(YOUR_CHANNEL_ACCESS_TOKEN)\n",
    "handler = WebhookHandler(YOUR_CHANNEL_SECRET)\n",
    "@app.route(\"/\")\n",
    "\n",
    "def hello_world():\n",
    "    return \"hello world\"\n",
    "\n",
    "@app.route(\"/callback\", methods=['POST'])\n",
    "def callback():\n",
    "    # get X-Line-Signature header value\n",
    "    signature = request.headers['X-Line-Signature']\n",
    "\n",
    "    # get request body as text\n",
    "    body = request.get_data(as_text=True)\n",
    "    app.logger.info(\"Request body: \" + body)\n",
    "\n",
    "    # handle webhook body\n",
    "    try:\n",
    "        handler.handle(body, signature)\n",
    "    except InvalidSignatureError:\n",
    "        print(\"Invalid signature. Please check your channel access token/channel secret.\")\n",
    "        abort(400)\n",
    "\n",
    "    return 'OK'\n",
    "\n",
    "\n",
    "@handler.add(MessageEvent, message=TextMessage)\n",
    "def handle_message(event):\n",
    "    line_bot_api.reply_message(\n",
    "        event.reply_token,\n",
    "        TextSendMessage(text=event.message.text))\n",
    "\n",
    "\n",
    "if __name__ == \"__main__\":\n",
    "    app.run()"
   ]
  },
  {
   "cell_type": "code",
   "execution_count": null,
   "metadata": {},
   "outputs": [],
   "source": []
  },
  {
   "cell_type": "code",
   "execution_count": null,
   "metadata": {},
   "outputs": [],
   "source": []
  }
 ],
 "metadata": {
  "kernelspec": {
   "display_name": "Python 3",
   "language": "python",
   "name": "python3"
  },
  "language_info": {
   "codemirror_mode": {
    "name": "ipython",
    "version": 3
   },
   "file_extension": ".py",
   "mimetype": "text/x-python",
   "name": "python",
   "nbconvert_exporter": "python",
   "pygments_lexer": "ipython3",
   "version": "3.8.3"
  }
 },
 "nbformat": 4,
 "nbformat_minor": 4
}
